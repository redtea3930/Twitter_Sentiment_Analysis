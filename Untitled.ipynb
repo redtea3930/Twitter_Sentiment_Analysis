{
 "cells": [
  {
   "cell_type": "code",
   "execution_count": 3,
   "id": "571e8716-f7ec-402c-bab9-db01b33f02c1",
   "metadata": {
    "tags": []
   },
   "outputs": [],
   "source": [
    "import pandas as pd\n",
    "from pathlib import Path\n",
    "import re\n",
    "from nltk.corpus import stopwords\n",
    "from nltk.tokenize import word_tokenize\n",
    "from nltk.stem import WordNetLemmatizer \n"
   ]
  },
  {
   "cell_type": "markdown",
   "id": "0cbe2a63-f0b3-4635-ace7-f7ec805c84fc",
   "metadata": {},
   "source": [
    "## Data importation\n",
    "Technical difficulties prevented me from importing full dataset. Despite encoding of the original csv in UTC-8, \n",
    "Jupyter Lab insisted the original csv. I was able to open the original csv in Excel, export it as a new csv specified to be encoded in UTC-8, and then import that new csv in Jupyter Lab successfully. This limited the dataset to 1M lines, removing some 600,000 rows. This should still be a sizable dataset for analysis, however as the original data was ordered by sentiment, this removed a significant amount of positive sentimented text."
   ]
  },
  {
   "cell_type": "code",
   "execution_count": 4,
   "id": "b7b51bd1-b4da-4362-8257-349c112c4dbb",
   "metadata": {
    "tags": []
   },
   "outputs": [
    {
     "data": {
      "text/html": [
       "<div>\n",
       "<style scoped>\n",
       "    .dataframe tbody tr th:only-of-type {\n",
       "        vertical-align: middle;\n",
       "    }\n",
       "\n",
       "    .dataframe tbody tr th {\n",
       "        vertical-align: top;\n",
       "    }\n",
       "\n",
       "    .dataframe thead th {\n",
       "        text-align: right;\n",
       "    }\n",
       "</style>\n",
       "<table border=\"1\" class=\"dataframe\">\n",
       "  <thead>\n",
       "    <tr style=\"text-align: right;\">\n",
       "      <th></th>\n",
       "      <th>sentiment</th>\n",
       "      <th>id</th>\n",
       "      <th>time</th>\n",
       "      <th>query</th>\n",
       "      <th>name</th>\n",
       "      <th>text</th>\n",
       "    </tr>\n",
       "  </thead>\n",
       "  <tbody>\n",
       "    <tr>\n",
       "      <th>0</th>\n",
       "      <td>0</td>\n",
       "      <td>1467810369</td>\n",
       "      <td>Mon Apr 06 22:19:45 PDT 2009</td>\n",
       "      <td>NO_QUERY</td>\n",
       "      <td>_TheSpecialOne_</td>\n",
       "      <td>@switchfoot http://twitpic.com/2y1zl - Awww, t...</td>\n",
       "    </tr>\n",
       "    <tr>\n",
       "      <th>1</th>\n",
       "      <td>0</td>\n",
       "      <td>1467810672</td>\n",
       "      <td>Mon Apr 06 22:19:49 PDT 2009</td>\n",
       "      <td>NO_QUERY</td>\n",
       "      <td>scotthamilton</td>\n",
       "      <td>is upset that he can't update his Facebook by ...</td>\n",
       "    </tr>\n",
       "    <tr>\n",
       "      <th>2</th>\n",
       "      <td>0</td>\n",
       "      <td>1467810917</td>\n",
       "      <td>Mon Apr 06 22:19:53 PDT 2009</td>\n",
       "      <td>NO_QUERY</td>\n",
       "      <td>mattycus</td>\n",
       "      <td>@Kenichan I dived many times for the ball. Man...</td>\n",
       "    </tr>\n",
       "    <tr>\n",
       "      <th>3</th>\n",
       "      <td>0</td>\n",
       "      <td>1467811184</td>\n",
       "      <td>Mon Apr 06 22:19:57 PDT 2009</td>\n",
       "      <td>NO_QUERY</td>\n",
       "      <td>ElleCTF</td>\n",
       "      <td>my whole body feels itchy and like its on fire</td>\n",
       "    </tr>\n",
       "    <tr>\n",
       "      <th>4</th>\n",
       "      <td>0</td>\n",
       "      <td>1467811193</td>\n",
       "      <td>Mon Apr 06 22:19:57 PDT 2009</td>\n",
       "      <td>NO_QUERY</td>\n",
       "      <td>Karoli</td>\n",
       "      <td>@nationwideclass no, it's not behaving at all....</td>\n",
       "    </tr>\n",
       "    <tr>\n",
       "      <th>...</th>\n",
       "      <td>...</td>\n",
       "      <td>...</td>\n",
       "      <td>...</td>\n",
       "      <td>...</td>\n",
       "      <td>...</td>\n",
       "      <td>...</td>\n",
       "    </tr>\n",
       "    <tr>\n",
       "      <th>999995</th>\n",
       "      <td>4</td>\n",
       "      <td>1879942807</td>\n",
       "      <td>Thu May 21 23:36:19 PDT 2009</td>\n",
       "      <td>NO_QUERY</td>\n",
       "      <td>divabat</td>\n",
       "      <td>@healingsinger thank you, i needed that</td>\n",
       "    </tr>\n",
       "    <tr>\n",
       "      <th>999996</th>\n",
       "      <td>4</td>\n",
       "      <td>1879942922</td>\n",
       "      <td>Thu May 21 23:36:20 PDT 2009</td>\n",
       "      <td>NO_QUERY</td>\n",
       "      <td>nick1975</td>\n",
       "      <td>@vactress http://bit.ly/cADea  Maybe this is m...</td>\n",
       "    </tr>\n",
       "    <tr>\n",
       "      <th>999997</th>\n",
       "      <td>4</td>\n",
       "      <td>1879942975</td>\n",
       "      <td>Thu May 21 23:36:21 PDT 2009</td>\n",
       "      <td>NO_QUERY</td>\n",
       "      <td>znmeb</td>\n",
       "      <td>@Brat13 Hell, Windows 7 will be out of my pric...</td>\n",
       "    </tr>\n",
       "    <tr>\n",
       "      <th>999998</th>\n",
       "      <td>4</td>\n",
       "      <td>1879943113</td>\n",
       "      <td>Thu May 21 23:36:22 PDT 2009</td>\n",
       "      <td>NO_QUERY</td>\n",
       "      <td>virmani</td>\n",
       "      <td>@jigardoshi neah.. i wish! just reminiscing  r...</td>\n",
       "    </tr>\n",
       "    <tr>\n",
       "      <th>999999</th>\n",
       "      <td>4</td>\n",
       "      <td>1879943219</td>\n",
       "      <td>Thu May 21 23:36:24 PDT 2009</td>\n",
       "      <td>NO_QUERY</td>\n",
       "      <td>redcomet81</td>\n",
       "      <td>@MsTeagan ...and by the way: I rewatched Sun G...</td>\n",
       "    </tr>\n",
       "  </tbody>\n",
       "</table>\n",
       "<p>1000000 rows × 6 columns</p>\n",
       "</div>"
      ],
      "text/plain": [
       "        sentiment          id                          time     query  \\\n",
       "0               0  1467810369  Mon Apr 06 22:19:45 PDT 2009  NO_QUERY   \n",
       "1               0  1467810672  Mon Apr 06 22:19:49 PDT 2009  NO_QUERY   \n",
       "2               0  1467810917  Mon Apr 06 22:19:53 PDT 2009  NO_QUERY   \n",
       "3               0  1467811184  Mon Apr 06 22:19:57 PDT 2009  NO_QUERY   \n",
       "4               0  1467811193  Mon Apr 06 22:19:57 PDT 2009  NO_QUERY   \n",
       "...           ...         ...                           ...       ...   \n",
       "999995          4  1879942807  Thu May 21 23:36:19 PDT 2009  NO_QUERY   \n",
       "999996          4  1879942922  Thu May 21 23:36:20 PDT 2009  NO_QUERY   \n",
       "999997          4  1879942975  Thu May 21 23:36:21 PDT 2009  NO_QUERY   \n",
       "999998          4  1879943113  Thu May 21 23:36:22 PDT 2009  NO_QUERY   \n",
       "999999          4  1879943219  Thu May 21 23:36:24 PDT 2009  NO_QUERY   \n",
       "\n",
       "                   name                                               text  \n",
       "0       _TheSpecialOne_  @switchfoot http://twitpic.com/2y1zl - Awww, t...  \n",
       "1         scotthamilton  is upset that he can't update his Facebook by ...  \n",
       "2              mattycus  @Kenichan I dived many times for the ball. Man...  \n",
       "3               ElleCTF    my whole body feels itchy and like its on fire   \n",
       "4                Karoli  @nationwideclass no, it's not behaving at all....  \n",
       "...                 ...                                                ...  \n",
       "999995          divabat           @healingsinger thank you, i needed that   \n",
       "999996         nick1975  @vactress http://bit.ly/cADea  Maybe this is m...  \n",
       "999997            znmeb  @Brat13 Hell, Windows 7 will be out of my pric...  \n",
       "999998          virmani  @jigardoshi neah.. i wish! just reminiscing  r...  \n",
       "999999       redcomet81  @MsTeagan ...and by the way: I rewatched Sun G...  \n",
       "\n",
       "[1000000 rows x 6 columns]"
      ]
     },
     "execution_count": 4,
     "metadata": {},
     "output_type": "execute_result"
    }
   ],
   "source": [
    "filepath = Path(\"training8.csv\")\n",
    "tweets = pd.read_csv(filepath, header=None, names=[\"sentiment\", \"id\", \"time\", \"query\", \"name\", \"text\"])\n",
    "tweets"
   ]
  },
  {
   "cell_type": "code",
   "execution_count": 5,
   "id": "b678f168-7b7d-4b1b-9187-a5e71635fe4c",
   "metadata": {},
   "outputs": [
    {
     "data": {
      "text/plain": [
       "NO_QUERY    1000000\n",
       "Name: query, dtype: int64"
      ]
     },
     "execution_count": 5,
     "metadata": {},
     "output_type": "execute_result"
    }
   ],
   "source": [
    "#Does column 'NO_QUERY' contain any useful data or is every row just 'NO_QUERY'?\n",
    "tweets['query'].value_counts()"
   ]
  },
  {
   "cell_type": "code",
   "execution_count": 6,
   "id": "710eaea7-9f6c-4699-8a7c-1c8e222428d0",
   "metadata": {
    "tags": []
   },
   "outputs": [
    {
     "data": {
      "text/html": [
       "<div>\n",
       "<style scoped>\n",
       "    .dataframe tbody tr th:only-of-type {\n",
       "        vertical-align: middle;\n",
       "    }\n",
       "\n",
       "    .dataframe tbody tr th {\n",
       "        vertical-align: top;\n",
       "    }\n",
       "\n",
       "    .dataframe thead th {\n",
       "        text-align: right;\n",
       "    }\n",
       "</style>\n",
       "<table border=\"1\" class=\"dataframe\">\n",
       "  <thead>\n",
       "    <tr style=\"text-align: right;\">\n",
       "      <th></th>\n",
       "      <th>sentiment</th>\n",
       "      <th>text</th>\n",
       "    </tr>\n",
       "  </thead>\n",
       "  <tbody>\n",
       "    <tr>\n",
       "      <th>0</th>\n",
       "      <td>0</td>\n",
       "      <td>@switchfoot http://twitpic.com/2y1zl - Awww, t...</td>\n",
       "    </tr>\n",
       "    <tr>\n",
       "      <th>1</th>\n",
       "      <td>0</td>\n",
       "      <td>is upset that he can't update his Facebook by ...</td>\n",
       "    </tr>\n",
       "    <tr>\n",
       "      <th>2</th>\n",
       "      <td>0</td>\n",
       "      <td>@Kenichan I dived many times for the ball. Man...</td>\n",
       "    </tr>\n",
       "    <tr>\n",
       "      <th>3</th>\n",
       "      <td>0</td>\n",
       "      <td>my whole body feels itchy and like its on fire</td>\n",
       "    </tr>\n",
       "    <tr>\n",
       "      <th>4</th>\n",
       "      <td>0</td>\n",
       "      <td>@nationwideclass no, it's not behaving at all....</td>\n",
       "    </tr>\n",
       "  </tbody>\n",
       "</table>\n",
       "</div>"
      ],
      "text/plain": [
       "   sentiment                                               text\n",
       "0          0  @switchfoot http://twitpic.com/2y1zl - Awww, t...\n",
       "1          0  is upset that he can't update his Facebook by ...\n",
       "2          0  @Kenichan I dived many times for the ball. Man...\n",
       "3          0    my whole body feels itchy and like its on fire \n",
       "4          0  @nationwideclass no, it's not behaving at all...."
      ]
     },
     "execution_count": 6,
     "metadata": {},
     "output_type": "execute_result"
    }
   ],
   "source": [
    "# Tweet id's and query have no data useful for sentiment analysis. There could be something in 'time,' but\n",
    "# without timezone data it can't be determined what time of day tweets were sent. Names are unlikely to be useful.\n",
    "tweets = tweets.drop(columns=['id', 'time', 'query', 'name'])\n",
    "tweets.head()"
   ]
  },
  {
   "cell_type": "code",
   "execution_count": 60,
   "id": "9990ef88-e0ee-4d08-acc1-3bddb267b595",
   "metadata": {
    "tags": []
   },
   "outputs": [],
   "source": [
    "# data cleaning ideas:\n",
    "# count tokens beginning with \"@,\" store as new column \"reply_depth,\" remove tokens\"\n",
    "#     keep count of \"@\" token \n",
    "# count tokens beginning with \"http://,\" store as new column \"links,\" remove tokens\"\n",
    "#     keep count of \"http\" token\n",
    "\n",
    "#     word_tokenize \n",
    "#     \n",
    "\n",
    "reply_depth = []\n",
    "\n",
    "for row in tweets:\n",
    "    tweet_text = row[2]\n",
    "    mention_pattern = r\"@\\w+\"\n",
    "    mention_count = len(re.findall(mention_pattern, tweet_text))\n",
    "    reply_depth.append(mention_count)\n",
    "    \n",
    "tweets['reply_depth'] = pd.Series(reply_depth)\n",
    "\n"
   ]
  },
  {
   "cell_type": "raw",
   "id": "421ae4c0-e5d5-47a0-b28f-47e6eecece38",
   "metadata": {},
   "source": [
    "# use function and apply to row instead of loop, use below code\n",
    "# split sentence on @, length of string at split, look at first output of split, get length\n",
    "# start search after certain number of characters\n",
    "\n",
    "import re\n",
    "\n",
    "matches = re.finditer(r'@\\w+', 'This is a test string.')\n",
    "\n",
    "for match in matches:\n",
    "  if match.start() == 10:\n",
    "    print(match.group())"
   ]
  },
  {
   "cell_type": "raw",
   "id": "f7fe893f-2a30-49cc-8f1d-9d22e61064ed",
   "metadata": {},
   "source": [
    "# better code \n",
    "def at_counter(text):\n",
    "    count = len(re.findall(r'@\\w+', text))\n",
    "    return count\n",
    "\n",
    "df['@_count'] = df['text'].apply(lambda x: at_counter(x))"
   ]
  },
  {
   "cell_type": "code",
   "execution_count": 61,
   "id": "e9cfedcb-32d0-4d3f-8c06-a6d330625759",
   "metadata": {
    "tags": []
   },
   "outputs": [
    {
     "data": {
      "text/html": [
       "<div>\n",
       "<style scoped>\n",
       "    .dataframe tbody tr th:only-of-type {\n",
       "        vertical-align: middle;\n",
       "    }\n",
       "\n",
       "    .dataframe tbody tr th {\n",
       "        vertical-align: top;\n",
       "    }\n",
       "\n",
       "    .dataframe thead th {\n",
       "        text-align: right;\n",
       "    }\n",
       "</style>\n",
       "<table border=\"1\" class=\"dataframe\">\n",
       "  <thead>\n",
       "    <tr style=\"text-align: right;\">\n",
       "      <th></th>\n",
       "      <th>sentiment</th>\n",
       "      <th>text</th>\n",
       "      <th>reply_depth</th>\n",
       "    </tr>\n",
       "  </thead>\n",
       "  <tbody>\n",
       "    <tr>\n",
       "      <th>0</th>\n",
       "      <td>0</td>\n",
       "      <td>@ switchfoot httptwitpiccomyzl awww thats bumm...</td>\n",
       "      <td>0.0</td>\n",
       "    </tr>\n",
       "    <tr>\n",
       "      <th>1</th>\n",
       "      <td>0</td>\n",
       "      <td>upset cant update facebook texting might cry r...</td>\n",
       "      <td>0.0</td>\n",
       "    </tr>\n",
       "    <tr>\n",
       "      <th>2</th>\n",
       "      <td>0</td>\n",
       "      <td>@ kenichan dived many time ball managed save r...</td>\n",
       "      <td>0.0</td>\n",
       "    </tr>\n",
       "    <tr>\n",
       "      <th>3</th>\n",
       "      <td>0</td>\n",
       "      <td>whole body feel itchy like fire</td>\n",
       "      <td>NaN</td>\n",
       "    </tr>\n",
       "    <tr>\n",
       "      <th>4</th>\n",
       "      <td>0</td>\n",
       "      <td>@ nationwideclass behaving im mad cant see</td>\n",
       "      <td>NaN</td>\n",
       "    </tr>\n",
       "  </tbody>\n",
       "</table>\n",
       "</div>"
      ],
      "text/plain": [
       "   sentiment                                               text  reply_depth\n",
       "0          0  @ switchfoot httptwitpiccomyzl awww thats bumm...          0.0\n",
       "1          0  upset cant update facebook texting might cry r...          0.0\n",
       "2          0  @ kenichan dived many time ball managed save r...          0.0\n",
       "3          0                    whole body feel itchy like fire          NaN\n",
       "4          0         @ nationwideclass behaving im mad cant see          NaN"
      ]
     },
     "execution_count": 61,
     "metadata": {},
     "output_type": "execute_result"
    }
   ],
   "source": [
    "tweets.head()"
   ]
  },
  {
   "cell_type": "code",
   "execution_count": 52,
   "id": "0968632b-1a56-4d8c-a50f-12d6a18467b0",
   "metadata": {
    "tags": []
   },
   "outputs": [
    {
     "data": {
      "text/html": [
       "<div>\n",
       "<style scoped>\n",
       "    .dataframe tbody tr th:only-of-type {\n",
       "        vertical-align: middle;\n",
       "    }\n",
       "\n",
       "    .dataframe tbody tr th {\n",
       "        vertical-align: top;\n",
       "    }\n",
       "\n",
       "    .dataframe thead th {\n",
       "        text-align: right;\n",
       "    }\n",
       "</style>\n",
       "<table border=\"1\" class=\"dataframe\">\n",
       "  <thead>\n",
       "    <tr style=\"text-align: right;\">\n",
       "      <th></th>\n",
       "      <th>sentiment</th>\n",
       "      <th>text</th>\n",
       "      <th>reply_depth</th>\n",
       "    </tr>\n",
       "  </thead>\n",
       "  <tbody>\n",
       "    <tr>\n",
       "      <th>0</th>\n",
       "      <td>0</td>\n",
       "      <td>@switchfoot http://twitpic.com/2y1zl - Awww, t...</td>\n",
       "      <td>0.0</td>\n",
       "    </tr>\n",
       "    <tr>\n",
       "      <th>1</th>\n",
       "      <td>0</td>\n",
       "      <td>is upset that he can't update his Facebook by ...</td>\n",
       "      <td>0.0</td>\n",
       "    </tr>\n",
       "  </tbody>\n",
       "</table>\n",
       "</div>"
      ],
      "text/plain": [
       "   sentiment                                               text  reply_depth\n",
       "0          0  @switchfoot http://twitpic.com/2y1zl - Awww, t...          0.0\n",
       "1          0  is upset that he can't update his Facebook by ...          0.0"
      ]
     },
     "execution_count": 52,
     "metadata": {},
     "output_type": "execute_result"
    }
   ],
   "source": [
    "tweets.iloc[0:2]"
   ]
  },
  {
   "cell_type": "code",
   "execution_count": 56,
   "id": "c4daf39a-a529-4ad3-8c18-9f730be54202",
   "metadata": {},
   "outputs": [],
   "source": [
    "# Lemmatizer script\n",
    "lemmatizer = WordNetLemmatizer()\n",
    "\n",
    "def process_text(text): \n",
    "    sw = set(stopwords.words('english')) \n",
    "    regex = re.compile(\"[^a-zA-Z@ ]\") \n",
    "    re_clean = regex.sub('', text) \n",
    "    words = word_tokenize(re_clean) \n",
    "    lem = [lemmatizer.lemmatize(word) for word in words] \n",
    "    output = ' '.join([word.lower() for word in lem if word.lower() not in sw]) \n",
    "    return output"
   ]
  },
  {
   "cell_type": "code",
   "execution_count": 57,
   "id": "a5480b68-257e-486b-92e6-53a2b5926198",
   "metadata": {
    "tags": []
   },
   "outputs": [],
   "source": [
    "tweets['text'] = tweets['text'].apply(lambda x: process_text(x))"
   ]
  },
  {
   "cell_type": "code",
   "execution_count": 58,
   "id": "d333df81-3548-4a98-9c55-2736a99a29b3",
   "metadata": {
    "tags": []
   },
   "outputs": [
    {
     "data": {
      "text/html": [
       "<div>\n",
       "<style scoped>\n",
       "    .dataframe tbody tr th:only-of-type {\n",
       "        vertical-align: middle;\n",
       "    }\n",
       "\n",
       "    .dataframe tbody tr th {\n",
       "        vertical-align: top;\n",
       "    }\n",
       "\n",
       "    .dataframe thead th {\n",
       "        text-align: right;\n",
       "    }\n",
       "</style>\n",
       "<table border=\"1\" class=\"dataframe\">\n",
       "  <thead>\n",
       "    <tr style=\"text-align: right;\">\n",
       "      <th></th>\n",
       "      <th>sentiment</th>\n",
       "      <th>text</th>\n",
       "      <th>reply_depth</th>\n",
       "    </tr>\n",
       "  </thead>\n",
       "  <tbody>\n",
       "    <tr>\n",
       "      <th>0</th>\n",
       "      <td>0</td>\n",
       "      <td>@ switchfoot httptwitpiccomyzl awww thats bumm...</td>\n",
       "      <td>0.0</td>\n",
       "    </tr>\n",
       "    <tr>\n",
       "      <th>1</th>\n",
       "      <td>0</td>\n",
       "      <td>upset cant update facebook texting might cry r...</td>\n",
       "      <td>0.0</td>\n",
       "    </tr>\n",
       "    <tr>\n",
       "      <th>2</th>\n",
       "      <td>0</td>\n",
       "      <td>@ kenichan dived many time ball managed save r...</td>\n",
       "      <td>0.0</td>\n",
       "    </tr>\n",
       "    <tr>\n",
       "      <th>3</th>\n",
       "      <td>0</td>\n",
       "      <td>whole body feel itchy like fire</td>\n",
       "      <td>NaN</td>\n",
       "    </tr>\n",
       "    <tr>\n",
       "      <th>4</th>\n",
       "      <td>0</td>\n",
       "      <td>@ nationwideclass behaving im mad cant see</td>\n",
       "      <td>NaN</td>\n",
       "    </tr>\n",
       "  </tbody>\n",
       "</table>\n",
       "</div>"
      ],
      "text/plain": [
       "   sentiment                                               text  reply_depth\n",
       "0          0  @ switchfoot httptwitpiccomyzl awww thats bumm...          0.0\n",
       "1          0  upset cant update facebook texting might cry r...          0.0\n",
       "2          0  @ kenichan dived many time ball managed save r...          0.0\n",
       "3          0                    whole body feel itchy like fire          NaN\n",
       "4          0         @ nationwideclass behaving im mad cant see          NaN"
      ]
     },
     "execution_count": 58,
     "metadata": {},
     "output_type": "execute_result"
    }
   ],
   "source": [
    "tweets.head()"
   ]
  },
  {
   "cell_type": "code",
   "execution_count": null,
   "id": "5e4e3ae4-cae3-4d13-a084-d3ed4f2b19bf",
   "metadata": {},
   "outputs": [],
   "source": []
  }
 ],
 "metadata": {
  "kernelspec": {
   "display_name": "Python 3 (ipykernel)",
   "language": "python",
   "name": "python3"
  },
  "language_info": {
   "codemirror_mode": {
    "name": "ipython",
    "version": 3
   },
   "file_extension": ".py",
   "mimetype": "text/x-python",
   "name": "python",
   "nbconvert_exporter": "python",
   "pygments_lexer": "ipython3",
   "version": "3.7.13"
  }
 },
 "nbformat": 4,
 "nbformat_minor": 5
}
